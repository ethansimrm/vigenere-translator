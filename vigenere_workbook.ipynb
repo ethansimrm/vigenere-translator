{
 "cells": [
  {
   "cell_type": "markdown",
   "metadata": {},
   "source": [
    "# Vigenère En/Decoder\n",
    "#### By Ethan Sim"
   ]
  },
  {
   "cell_type": "markdown",
   "metadata": {},
   "source": [
    "This is my second cryptography project after my Morse translator, and this time I'll be taking it slightly deeper. Beyond creating a GUI for the user to input their code, I also want to perform runtime analysis on two approaches (Basic and Memoized) to the Vigenère problem."
   ]
  },
  {
   "cell_type": "markdown",
   "metadata": {},
   "source": [
    "Broadly, our strategy will be to:\n",
    "- Write encoding and decoding functions corresponding to our two approaches.\n",
    "- Test both with a test suite.\n",
    "- Create a timing function and use matplotlib to monitor the time taken by each function as input and key size vary, presenting this as graphs.\n",
    "- Wrap our favourite function in a GUI using tkinter."
   ]
  },
  {
   "cell_type": "markdown",
   "metadata": {},
   "source": [
    "## How does Vigenère work?"
   ]
  },
  {
   "cell_type": "markdown",
   "metadata": {},
   "source": [
    "You need two things - your plaintext and a key. You will encode the message letter by letter using **Figure 1**. Locate your first plaintext letter on the horizontal row, and your first key letter on the vertical column. Where they intersect gives you the first letter of your ciphertext. If your key is shorter than your message, repeat its letters as needed until you hit the full length of the message.\n",
    "\n",
    "As an illustration (taken from Wikipedia): \n",
    "- Plaintext: ATTACKATDAWN\n",
    "- Key: LEMON --> LEMONLEMONLE (I call this the \"keystring\")\n",
    "- Ciphertext: LXFOPVEFRNHR\n",
    "\n",
    "Try it yourself!"
   ]
  },
  {
   "cell_type": "markdown",
   "metadata": {},
   "source": [
    "<img src=\"Vigenère_square_shading.svg\">\n",
    "\n",
    "**Figure 1: The basis of our Vigenère translation. Source: https://commons.wikimedia.org/wiki/File:Vigen%C3%A8re_square_shading.svg**"
   ]
  },
  {
   "cell_type": "markdown",
   "metadata": {},
   "source": [
    "## The Basic Approach"
   ]
  },
  {
   "cell_type": "markdown",
   "metadata": {},
   "source": [
    "We can see that we are, in effect, shifting each letter by its keystring counterpart's position in the alphabet. Note that because no shift occurs when our key is \"a\", our alphabet must be indexed from 0. And - from **Figure 1** - we note that if we shift a letter by \"z\", we hit the letter just before it! We can thus encode our message algebraically with the modulo operator.\n",
    "\n",
    "To build our encoding and decoding functions, we first need a dictionary to convert letters to numbers. Unfortunately - like Morse - Vignère can't distinguish between upper and lowercase letters! So our plaintext and ciphertext will both be uppercased. Note that we will remove spaces later - we don't want people to guess our message easily!"
   ]
  },
  {
   "cell_type": "code",
   "execution_count": 4,
   "metadata": {},
   "outputs": [],
   "source": [
    "alpha_num = {\"A\":0, \"B\":1, \"C\":2, \"D\":3, \"E\":4, \"F\":5, \"G\":6, \"H\":7, \"I\":8, \"J\":9, \"K\":10, \"L\":11, \"M\":12, \"N\":13, \n",
    "             \"O\":14, \"P\":15, \"Q\":16, \"R\":17, \"S\":18, \"T\":19, \"U\":20, \"V\":21, \"W\":22, \"X\":23, \"Y\":24, \"Z\":25}\n",
    "\n",
    "#Creating this list to save memory when looking up values\n",
    "alphabet_list = list(alpha_num.keys())"
   ]
  },
  {
   "cell_type": "markdown",
   "metadata": {},
   "source": [
    "First, let's create some helper functions - we know both encoding and decoding require keystring building, whitespace removal, and uppercasing."
   ]
  },
  {
   "cell_type": "code",
   "execution_count": 134,
   "metadata": {},
   "outputs": [],
   "source": [
    "#Helper function to prep plaintext, ciphertext and key for encoding, decoding and keystring building respectively\n",
    "\n",
    "def message_prepper(message):\n",
    "    \"\"\"\n",
    "    Takes in a string message, and returns a string message_copy, which has no whitespace and is all uppercase.\n",
    "    \"\"\"\n",
    "    message_copy = str(message)\n",
    "    message_copy = message_copy.replace(\" \",\"\") #If we want to preserve spaces, we can add a Boolean flag (but we must strip spaces for keys)\n",
    "    #Strip punctuation\n",
    "    message_copy = message_copy.replace(\"(\",\"\").replace(\")\", \"\").replace(\".\", \"\").replace(\",\",\"\").replace(\"'\", \"\").replace('\"', \"\").replace(\"?\", \"\").replace(\":\", \"\").replace(\"-\", \"\")\n",
    "    message_copy = message_copy.upper()\n",
    "    return message_copy         \n",
    "\n",
    "#Helper function to build a keystring \n",
    "\n",
    "def keystring_builder(key, message_length):\n",
    "    \"\"\"\n",
    "    Takes as input a string key and integer message_length, and returns a string keystring.\n",
    "    \"\"\"   \n",
    "    #We need to remove any whitespace from the key\n",
    "    key_copy = message_prepper(key)    \n",
    "    #Depending on the length of the plaintext, build the keystring accordingly\n",
    "    if len(key_copy) > message_length:\n",
    "        keystring = key_copy[:message_length]\n",
    "    elif len(key_copy) == message_length:\n",
    "        keystring = str(key_copy) \n",
    "    else:\n",
    "        keystring = str(key_copy) #Don't mutate the input\n",
    "        key_letter = 0 \n",
    "        for letter_idx in range(message_length - len(key_copy)): #This is the number of letters you need to add to make the keystring the same length as the plaintext\n",
    "            keystring += key_copy[key_letter % len(key_copy)] #As we iterate through the characters, this will go from 0 to len(key) - 1, and back to 0, allowing us to generate our keystring\n",
    "            key_letter += 1\n",
    "    return keystring.upper()"
   ]
  },
  {
   "cell_type": "markdown",
   "metadata": {},
   "source": [
    "With that out of the way, let's build our basic encoder and decoder."
   ]
  },
  {
   "cell_type": "code",
   "execution_count": 6,
   "metadata": {},
   "outputs": [],
   "source": [
    "#Basic Vigenère encoder - I got rid of the accent for ease of calling\n",
    "\n",
    "def basic_vigenere_encoder(plaintext, key):\n",
    "    \"\"\"\n",
    "    Takes two strings, plaintext and key, as input, encodes them via the Vigenère method, and returns a string ciphertext.\n",
    "    \"\"\"\n",
    "    #Sanity checks\n",
    "    if not (isinstance(plaintext, str) and isinstance(key, str)):\n",
    "        return \"Input two strings, plaintext and key\"\n",
    "    if len(key) == 0: #No key means no encoding\n",
    "        return message_prepper(plaintext)\n",
    "    \n",
    "    #Prepare plaintext for encoding\n",
    "    plaintext_copy = message_prepper(plaintext)\n",
    "    \n",
    "    #Prepare keystring for encoding - remember that keystring length is determined by plaintext length sans spaces\n",
    "    keystring = keystring_builder(key, len(plaintext_copy))\n",
    "    \n",
    "    #Initialise a pointer which runs across both plaintext_copy and keystring, and encode accordingly\n",
    "    ciphertext = \"\" #Deals with empty plaintext strings\n",
    "    for idx in range(len(plaintext_copy)):\n",
    "        if plaintext_copy[idx] not in alphabet_list:\n",
    "            return \"ERROR: You can't encode this character: \" + plaintext_copy[idx] + \"\\nYour encoded message thus far is: \" + ciphertext\n",
    "        elif keystring[idx] not in alphabet_list:\n",
    "            return \"ERROR: You can't use this character in your key: \" + keystring[idx] + \"\\nYour encoded message thus far is: \" + ciphertext\n",
    "        else:\n",
    "            ciphertext_letter_code = (alpha_num[plaintext_copy[idx]] + alpha_num[keystring[idx]]) % 26 #We convert the corresponding letters to numbers and solve for the ciphertext\n",
    "            #This assumes you are using the English alphabet (26 characters) - consider (Z + A) % 26 = Z, and so on.\n",
    "            ciphertext += alphabet_list[ciphertext_letter_code] \n",
    "    return ciphertext\n",
    "\n",
    "#Basic Vigenère decoder\n",
    "\n",
    "def basic_vigenere_decoder(ciphertext, key):\n",
    "    \"\"\"\n",
    "    Takes two strings, ciphertext and key, as input, decodes them via the Vigenère method, and returns a string plaintext.\n",
    "    \"\"\"\n",
    "    #Sanity checks\n",
    "    if not (isinstance(ciphertext, str) and isinstance(key, str)):\n",
    "        return \"Input two strings, ciphertext and key\"\n",
    "    if len(key) == 0: #No key means no decoding\n",
    "        return message_prepper(ciphertext)\n",
    "    \n",
    "    #Prepare ciphertext for decoding\n",
    "    ciphertext_copy = message_prepper(ciphertext)\n",
    "    \n",
    "    #Prepare keystring for decoding\n",
    "    keystring = keystring_builder(key, len(ciphertext_copy))\n",
    "    \n",
    "    #Initialise a pointer which runs across both ciphertext_copy and keystring, and decode accordingly\n",
    "    plaintext = \"\"\n",
    "    for idx in range(len(ciphertext_copy)):\n",
    "        if ciphertext_copy[idx] not in alphabet_list:\n",
    "            return \"ERROR: I can't decode this character: \" + ciphertext_copy[idx] + \"\\nYour decoded message thus far is: \" + plaintext\n",
    "        elif keystring[idx] not in alphabet_list:\n",
    "            return \"ERROR: You can't use this character in your key: \" + keystring[idx] + \"\\nYour decoded message thus far is: \" + plaintext\n",
    "        else:\n",
    "            plaintext_letter_code = (alpha_num[ciphertext_copy[idx]] - alpha_num[keystring[idx]]) % 26\n",
    "            plaintext += alphabet_list[plaintext_letter_code]\n",
    "    return plaintext"
   ]
  },
  {
   "cell_type": "markdown",
   "metadata": {},
   "source": [
    "Evidently, the structure of the encoder and decoder are very similar. Surely there's a way for us to make a single function which does both? Let's use dictionary refactoring!"
   ]
  },
  {
   "cell_type": "code",
   "execution_count": 7,
   "metadata": {},
   "outputs": [],
   "source": [
    "#First, initialise our encoder and decoder dictionaries - we use this because it's faster to look stuff up in a dictionary - and we will be doing a lot of looking.\n",
    "\n",
    "encoder_dict = {0:\"Plaintext\", 1:\"encode\", 2:\"encoded\", 3:1}\n",
    "\n",
    "decoder_dict = {0:\"Ciphertext\", 1:\"decode\", 2:\"decoded\", 3:-1}\n",
    "\n",
    "#Second, initialise our master dictionary, flag_dict - this will point to both dictionaries above.\n",
    "\n",
    "flag_dict = {\"encode\":encoder_dict, \"decode\":decoder_dict}\n",
    "\n",
    "#Let's combine both functions into one, using the generic name \"message\" to replace ciphertext and plaintext.\n",
    "\n",
    "def basic_vigenere_translator(message, key, flag):\n",
    "    \"\"\"\n",
    "    Takes as input three strings, message, key, and flag, encodes or decodes via the Vigenère method depending on flag, and returns a string output.\n",
    "    \"\"\"\n",
    "    #Sanity checks\n",
    "    if flag != \"encode\" and flag != \"decode\":\n",
    "        return \"ERROR: Flag must either be 'encode' or 'decode'!\"\n",
    "    elif not isinstance(message, str):\n",
    "        return \"ERROR: \" + flag_dict[flag][0] + \" must be a string!\"\n",
    "    elif not isinstance(key, str):\n",
    "        return \"ERROR: Key must be a string!\"\n",
    "    elif len(key) == 0: #No key means no encoding or decoding\n",
    "        return message_prepper(message)\n",
    "    \n",
    "    #Prepare message for encoding or decoding\n",
    "    message_copy = message_prepper(message)\n",
    "    \n",
    "    #Prepare keystring for encoding or decoding\n",
    "    keystring = keystring_builder(key, len(message_copy))\n",
    "    \n",
    "    #Initialise a pointer which runs across both message_copy and keystring, and encode or decode accordingly\n",
    "    output = \"\"\n",
    "    for idx in range(len(message_copy)):\n",
    "        if message_copy[idx] not in alphabet_list:\n",
    "            return \"ERROR: I can't \" + flag_dict[flag][1] + \" this character: \" + message_copy[idx] + \"\\nYour \" + flag_dict[flag][2] + \" message thus far is: \" + output\n",
    "        elif keystring[idx] not in alphabet_list:\n",
    "            return \"ERROR: You can't use this character in your key: \" + keystring[idx] + \"\\nYour \" + flag_dict[flag][2] + \" message thus far is: \" + output\n",
    "        else:\n",
    "            output_letter_code = (alpha_num[message_copy[idx]] + alpha_num[keystring[idx]] * flag_dict[flag][3]) % 26\n",
    "            output += alphabet_list[output_letter_code]\n",
    "    return output"
   ]
  },
  {
   "cell_type": "markdown",
   "metadata": {},
   "source": [
    "Now, it's time to test our basic translator. Do note that this testing suite will also be employed to assess our other methods as well. We'll compare our outputs to those from https://www.dcode.fr/vigenere-cipher."
   ]
  },
  {
   "cell_type": "code",
   "execution_count": 8,
   "metadata": {},
   "outputs": [
    {
     "name": "stdout",
     "output_type": "stream",
     "text": [
      "Congratulations! 12/12 tests passed!\n"
     ]
    }
   ],
   "source": [
    "def test_vigenere(translator_function):\n",
    "    \"\"\"\n",
    "    This will run our Vigenère translator (translator_function) against a selection of varying inputs, and compare the outputs to a model answer.\n",
    "    \"\"\"\n",
    "    \n",
    "    #Assess edge cases first - Indeed this means all our functions will have the same error messages for the same edge case.\n",
    "    assert translator_function(\"\",\"\",\"\") == \"ERROR: Flag must either be 'encode' or 'decode'!\", \"Test 1 failed: input '', '', ''\"\n",
    "    assert translator_function(123, \"\", \"encode\") == \"ERROR: Plaintext must be a string!\", \"Test 2 failed: input 123, '', 'encode'\"\n",
    "    assert translator_function(\"\", 123, \"encode\") == \"ERROR: Key must be a string!\", \"Test 3 failed: input '', 123, 'encode'\"\n",
    "    assert translator_function(\"test\", \"\", \"encode\") == \"TEST\", \"Test 4 failed: input 'test', '', 'encode'\"\n",
    "    assert translator_function(\"\", \"testkey\", \"encode\") == \"\", \"Test 5 failed: input '', 'testkey', 'encode'\"\n",
    "    assert translator_function(123, \"\", \"decode\") == \"ERROR: Ciphertext must be a string!\", \"Test 6 failed: input 123, '', 'decode'\"\n",
    "    assert translator_function(\"fake_plaintext\", \"testkey\", \"encode\") == \"ERROR: I can't encode this character: _\\nYour encoded message thus far is: YECX\", \"Test 7 failed: input 'fake_plaintext', 'testkey', 'encode'\"\n",
    "    assert translator_function(\"fake_plaintext\", \"f@kekey\", \"encode\") == \"ERROR: You can't use this character in your key: @\\nYour encoded message thus far is: K\", \"Test 8 failed: input 'fake_plaintext', 'f@kekey', 'encode'\"\n",
    "    assert translator_function(\"fake_plaintext\", \"testkey\", \"decode\") == \"ERROR: I can't decode this character: _\\nYour decoded message thus far is: MWSL\", \"Test 9 failed: input 'fake_plaintext', 'testkey', 'decode'\"\n",
    "    assert translator_function(\"fake_plaintext\", \"f@kekey\", \"decode\") == \"ERROR: You can't use this character in your key: @\\nYour decoded message thus far is: A\", \"Test 10 failed: input 'fake_plaintext', 'f@kekey', 'decode'\"\n",
    "   \n",
    "    #Assess encoding and decoding capability\n",
    "    assert translator_function(\"This is a test message\", \"test key\", \"encode\") == \"MLALSWYMIKMWIQLEYX\", \"Test 11 failed: input 'This is a test message', 'test key', 'encode'\"\n",
    "    assert translator_function(\"MLALSWYMIKMWIQLEYX\", \"test key\", \"decode\") == \"THISISATESTMESSAGE\", \"Test 12 failed: input 'MLALSWYMIKMWIQLEYX', 'test key', 'decode'\"\n",
    "    \n",
    "    print(\"Congratulations! 12/12 tests passed!\")\n",
    "    \n",
    "test_vigenere(basic_vigenere_translator)"
   ]
  },
  {
   "cell_type": "markdown",
   "metadata": {},
   "source": [
    "We finally have a working Vigenère translator, but is this the only way we can create one?"
   ]
  },
  {
   "cell_type": "markdown",
   "metadata": {},
   "source": [
    "## The Memoized Approach"
   ]
  },
  {
   "cell_type": "markdown",
   "metadata": {},
   "source": [
    "This will be a teeny modification to the code, which (I predict) will probably only make a difference when the message is substantially longer and more complex than the key. Essentially, we want to store the result of previous input character-key character modifications in a dictionary. If this combination is encountered again, rather than looking up dictionaries 3 times, this will look up that dictionary only once. "
   ]
  },
  {
   "cell_type": "code",
   "execution_count": 21,
   "metadata": {},
   "outputs": [],
   "source": [
    "#Let's make some modifications to our basic translator, using the same dictionaries to refactor it\n",
    "\n",
    "def memoized_vigenere_translator(message, key, flag):\n",
    "    \"\"\"\n",
    "    Takes as input three strings, message, key, and flag, encodes or decodes via a memoized Vigenère method depending on flag, and returns a string output.\n",
    "    \"\"\"\n",
    "    #Sanity checks\n",
    "    if flag != \"encode\" and flag != \"decode\":\n",
    "        return \"ERROR: Flag must either be 'encode' or 'decode'!\"\n",
    "    elif not isinstance(message, str):\n",
    "        return \"ERROR: \" + flag_dict[flag][0] + \" must be a string!\"\n",
    "    elif not isinstance(key, str):\n",
    "        return \"ERROR: Key must be a string!\"\n",
    "    elif len(key) == 0: #No key means no encoding or decoding\n",
    "        return message_prepper(message)\n",
    "    \n",
    "    #Initialise an empty local dictionary - each message-keystring combination is assumed to be unique per function run\n",
    "    local_vigenere_dict = {}\n",
    "    \n",
    "    #Prepare message for encoding or decoding\n",
    "    message_copy = message_prepper(message)\n",
    "    \n",
    "    #Prepare keystring for encoding or decoding\n",
    "    keystring = keystring_builder(key, len(message_copy))\n",
    "    \n",
    "    #Initialise a pointer which runs across both message_copy and keystring, and encode or decode accordingly\n",
    "    output = \"\"\n",
    "    for idx in range(len(message_copy)):\n",
    "        if message_copy[idx] not in alphabet_list:\n",
    "            return \"ERROR: I can't \" + flag_dict[flag][1] + \" this character: \" + message_copy[idx] + \"\\nYour \" + flag_dict[flag][2] + \" message thus far is: \" + output\n",
    "        elif keystring[idx] not in alphabet_list:\n",
    "            return \"ERROR: You can't use this character in your key: \" + keystring[idx] + \"\\nYour \" + flag_dict[flag][2] + \" message thus far is: \" + output\n",
    "        else:\n",
    "            #If not previously encountered, decode and write it in the dictionary\n",
    "            if (message_copy[idx], keystring[idx]) not in local_vigenere_dict.keys():\n",
    "                output_letter_code = (alpha_num[message_copy[idx]] + alpha_num[keystring[idx]] * flag_dict[flag][3]) % 26\n",
    "                output += alphabet_list[output_letter_code]\n",
    "                local_vigenere_dict[(message_copy[idx], keystring[idx])] = alphabet_list[output_letter_code]\n",
    "            else:\n",
    "            #If previously encountered, just look it up and concatenate\n",
    "                output += local_vigenere_dict[(message_copy[idx], keystring[idx])]\n",
    "    return output"
   ]
  },
  {
   "cell_type": "markdown",
   "metadata": {},
   "source": [
    "And of course, let's test it."
   ]
  },
  {
   "cell_type": "code",
   "execution_count": 22,
   "metadata": {},
   "outputs": [
    {
     "name": "stdout",
     "output_type": "stream",
     "text": [
      "Congratulations! 12/12 tests passed!\n"
     ]
    }
   ],
   "source": [
    "test_vigenere(memoized_vigenere_translator)"
   ]
  },
  {
   "cell_type": "markdown",
   "metadata": {},
   "source": [
    "## Runtime Analysis"
   ]
  },
  {
   "cell_type": "markdown",
   "metadata": {},
   "source": [
    "If two things can perform the same function, how do we know which one is better, and under which circumstances? Specifically, knowing that memoization is expected to reap returns only if common subproblems are repeatedly encountered, to what extent will memoization make our Vigenère translation more efficient?"
   ]
  },
  {
   "cell_type": "markdown",
   "metadata": {},
   "source": [
    "We need to design an experiment which will enable us to compare the two functions on equal footing - the only thing that should vary is the size of the inputs (message and/or key). Our strategy will be as follows:\n",
    "- Randomly generate a list of inputs ranging from size = 1 to size = 10,000\n",
    "- Randomly generate a list of keys ranging from size = 1 to size = 10,000\n",
    "- Using a simple timing function, determine the time taken for both functions to encode varying inputs for a given key, and varying key lengths for a given input, and plot accordingly."
   ]
  },
  {
   "cell_type": "markdown",
   "metadata": {},
   "source": [
    "Let's start by generating our random lists:"
   ]
  },
  {
   "cell_type": "code",
   "execution_count": 48,
   "metadata": {},
   "outputs": [],
   "source": [
    "import random\n",
    "\n",
    "def input_generator(number):\n",
    "    \"\"\"\n",
    "    Randomly generates a list of strings with lengths 1 to number, using the English alphabet.\n",
    "    \"\"\"\n",
    "    string_list = [random.choice(alphabet_list)]\n",
    "    for string_length in range(1, number):\n",
    "        string_list.append(string_list[string_length - 1] + random.choice(alphabet_list))\n",
    "    return string_list\n",
    "   \n",
    "message_list = input_generator(10000)\n",
    "key_list = input_generator(10000)"
   ]
  },
  {
   "cell_type": "markdown",
   "metadata": {},
   "source": [
    "Now, let's determine the time taken for each function to resolve varying message sizes using a given key. We'll use an arbitrarily determined key (THISISATESTKEY) for this exercise. I hypothesise that memoization should perform much faster as relative size of the message (compared to the key) increases."
   ]
  },
  {
   "cell_type": "code",
   "execution_count": 57,
   "metadata": {},
   "outputs": [],
   "source": [
    "from time import time\n",
    "\n",
    "def expt_one_timer(translator_function, key, sample_size):\n",
    "    \"\"\"\n",
    "    Runs translator_function on a number (sample_size) of messages of increasing length, with the string key. Returns a list of times taken to process each message.\n",
    "    \"\"\"\n",
    "    #Sanity checks\n",
    "    if not isinstance(key, str):\n",
    "        return \"ERROR: Key must be a string!\"\n",
    "    elif len(key) == 0: \n",
    "        return \"ERROR: No key given - experiment cannot be performed!\"\n",
    "    elif not isinstance(sample_size, int):\n",
    "        return \"ERROR: Sample size must be an integer!\"\n",
    "    \n",
    "    output_list = [] #This will deal with sample_size = 0 edge cases.\n",
    "    for idx in range(0, sample_size):\n",
    "        time_one = time()\n",
    "        translator_function(message_list[idx], key, \"encode\")\n",
    "        time_two = time()\n",
    "        time_taken = time_two - time_one\n",
    "        output_list.append(time_taken)\n",
    "    return output_list"
   ]
  },
  {
   "cell_type": "markdown",
   "metadata": {},
   "source": [
    "Now, let's generate the data proper (and our x-axis)."
   ]
  },
  {
   "cell_type": "code",
   "execution_count": 59,
   "metadata": {},
   "outputs": [],
   "source": [
    "# Data for plotting\n",
    "basic_data_one = expt_one_timer(basic_vigenere_translator, 'THISISATESTKEY', 10000)\n",
    "memoized_data_one = expt_one_timer(memoized_vigenere_translator, 'THISISATESTKEY', 10000)\n",
    "\n",
    "x_axis = []\n",
    "for num in range(1,10001):\n",
    "    x_axis.append(num)"
   ]
  },
  {
   "cell_type": "markdown",
   "metadata": {},
   "source": [
    "With this in hand, let's start plotting. This was prepared with instruction from https://www.w3resource.com/graphics/matplotlib/basic/matplotlib-basic-exercise-5.php."
   ]
  },
  {
   "cell_type": "code",
   "execution_count": 96,
   "metadata": {},
   "outputs": [
    {
     "data": {
      "image/png": "[encoded data removed]",
      "text/plain": [
       "<Figure size 432x288 with 1 Axes>"
      ]
     },
     "metadata": {
      "needs_background": "light"
     },
     "output_type": "display_data"
    }
   ],
   "source": [
    "import matplotlib.pyplot as plt\n",
    "import numpy as np\n",
    "\n",
    "plt.scatter(x_axis, basic_data_one, s = 1, label = \"basic_vigenere_translator\")\n",
    "plt.scatter(x_axis, memoized_data_one, s = 1, label = \"memoized_vigenere_translator\")\n",
    "\n",
    "plt.xlabel(\"Number of characters per message\")\n",
    "plt.ylabel(\"Time (s)\")\n",
    "plt.title(\"Vigenère memoization exhibits negligible returns\")\n",
    "plt.legend()\n",
    "plt.savefig(\"fig_one.png\")\n",
    "plt.show()"
   ]
  },
  {
   "cell_type": "markdown",
   "metadata": {},
   "source": [
    "Now this is pretty strange, isn't it? What if we kept input size constant - using the same 10,000 character message - and varied key size? Would we then get the same picture? Note that these are two different sets of data, with different relative complexities!"
   ]
  },
  {
   "cell_type": "code",
   "execution_count": 66,
   "metadata": {},
   "outputs": [],
   "source": [
    "def expt_two_timer(translator_function, message, sample_size):\n",
    "    \"\"\"\n",
    "    Runs translator_function on a number (sample_size) of keys of increasing length, against the string message. Returns a list of times taken to process the message with a given key.\n",
    "    \"\"\"\n",
    "    #Sanity checks\n",
    "    if not isinstance(message, str):\n",
    "        return \"ERROR: Message must be a string!\"\n",
    "    elif len(message) == 0: \n",
    "        return \"ERROR: No message given - experiment cannot be performed!\"\n",
    "    elif not isinstance(sample_size, int):\n",
    "        return \"ERROR: Sample size must be an integer!\"\n",
    "    \n",
    "    output_list = [] #This will deal with sample_size = 0 edge cases.\n",
    "    for idx in range(0, sample_size):\n",
    "        time_one = time()\n",
    "        translator_function(message, key_list[idx], \"encode\")\n",
    "        time_two = time()\n",
    "        time_taken = time_two - time_one\n",
    "        output_list.append(time_taken)\n",
    "    return output_list"
   ]
  },
  {
   "cell_type": "markdown",
   "metadata": {},
   "source": [
    "Once again, we generate our data."
   ]
  },
  {
   "cell_type": "code",
   "execution_count": 70,
   "metadata": {},
   "outputs": [],
   "source": [
    "# Data for plotting\n",
    "basic_data_two = expt_two_timer(basic_vigenere_translator, message_list[-1], 10000)\n",
    "memoized_data_two = expt_two_timer(memoized_vigenere_translator, message_list[-1], 10000)"
   ]
  },
  {
   "cell_type": "markdown",
   "metadata": {},
   "source": [
    "And plot."
   ]
  },
  {
   "cell_type": "code",
   "execution_count": 105,
   "metadata": {},
   "outputs": [
    {
     "data": {
      "image/png": "[encoded data removed]",
      "text/plain": [
       "<Figure size 432x288 with 1 Axes>"
      ]
     },
     "metadata": {
      "needs_background": "light"
     },
     "output_type": "display_data"
    }
   ],
   "source": [
    "plt.scatter(x_axis, basic_data_two, s = 1, label = \"basic_vigenere_translator\")\n",
    "plt.scatter(x_axis, memoized_data_two, s = 1, label = \"memoized_vigenere_translator\")\n",
    "\n",
    "plt.xlabel(\"Number of characters per key\")\n",
    "plt.ylabel(\"Time (s)\")\n",
    "plt.title(\"Vigenère memoization exhibits negligible returns\")\n",
    "plt.legend()\n",
    "plt.savefig(\"fig_two.png\")\n",
    "plt.show()\n",
    "\n",
    "#I believe the time decreases because keystring_builder() takes less time to run as the size of the key increases relative to the message."
   ]
  },
  {
   "cell_type": "markdown",
   "metadata": {},
   "source": [
    "## Discussion"
   ]
  },
  {
   "cell_type": "markdown",
   "metadata": {},
   "source": [
    "Dynamic programming is conventionally held to reduce time complexity by storing subproblem solutions, but it only reaps significant returns if the same subproblems are repeatedly encountered. How can we determine if the same subproblems are repeatedly encountered here?"
   ]
  },
  {
   "cell_type": "markdown",
   "metadata": {},
   "source": [
    "Knowing that our first experiment essentially swotted 10,000 messages (which were all dependent, rather than independent) against one key, and that our second experiment swotted 10,000 keys - again all dependent - against a message 10,000 characters long, we can use sets to determine the number of repeated message-key pairs in the worst-case scenario. This is because sets reject duplicates."
   ]
  },
  {
   "cell_type": "code",
   "execution_count": 102,
   "metadata": {},
   "outputs": [],
   "source": [
    "def unique_ident(message, key):\n",
    "    \"\"\"\n",
    "    Takes in two strings, message and key, and returns the number of unique message-key character pairs.\n",
    "    \"\"\"\n",
    "    #We won't bother with sanity checks here - this is purely analytical rather than for the user end.\n",
    "    output_set = set([])\n",
    "    keystring = keystring_builder(key, len(message))\n",
    "    for idx in range(1, len(message)):\n",
    "        output_set.add((message[idx], keystring[idx]))\n",
    "    return len(output_set)"
   ]
  },
  {
   "cell_type": "code",
   "execution_count": 104,
   "metadata": {},
   "outputs": [
    {
     "name": "stdout",
     "output_type": "stream",
     "text": [
      "208\n",
      "676\n"
     ]
    }
   ],
   "source": [
    "print (unique_ident(message_list[-1], \"THISISATESTKEY\")) #Number of unique pairs in Experiment 1\n",
    "print (unique_ident(message_list[-1], key_list[-1])) #Number of unique pairs in Experiment 2"
   ]
  },
  {
   "cell_type": "markdown",
   "metadata": {},
   "source": [
    "So we should be seeing the same subproblem on average, well, 10,000 / 208 = 48 times for the first experiment, and 10,000 / 676 = 15 times for the second experiment. Then why isn't memoization much faster than the basic method?"
   ]
  },
  {
   "cell_type": "markdown",
   "metadata": {},
   "source": [
    "Let's examine the hypothesis that our dataset might be limited. Perhaps memoization does have an effect, but even 10,000 characters might be too small for us to see it. Let's expand our dataset to 100,000 characters and see what happens!"
   ]
  },
  {
   "cell_type": "code",
   "execution_count": 107,
   "metadata": {},
   "outputs": [],
   "source": [
    "def dataset_expander(string):\n",
    "    \"\"\"\n",
    "    Takes in a string string, and returns a list of string copies ranging from 1x its length to 10x its length.\n",
    "    \"\"\"\n",
    "    output_list = [string]\n",
    "    for list_index in range(1,10):\n",
    "        output_list.append(output_list[list_index - 1] + string)\n",
    "    return output_list"
   ]
  },
  {
   "cell_type": "code",
   "execution_count": 108,
   "metadata": {},
   "outputs": [],
   "source": [
    "expanded_message_list = dataset_expander(message_list[-1])\n",
    "expanded_key_list = dataset_expander(key_list[-1])"
   ]
  },
  {
   "cell_type": "code",
   "execution_count": 109,
   "metadata": {},
   "outputs": [],
   "source": [
    "def expt_three_timer(translator_function, message_list, key_list):\n",
    "    \"\"\"\n",
    "    Runs translator_function on messages and keys of increasing length, from message_list and key_list (both ordered and of the same length) respectively. \n",
    "    Returns a list of times taken to process each message and its corresponding key of the same length.\n",
    "    \"\"\"\n",
    "    #Skip the sanity checks for now\n",
    "    \n",
    "    output_list = [] \n",
    "    for idx in range(0, len(message_list)):\n",
    "        time_one = time()\n",
    "        translator_function(message_list[idx], key_list[idx], \"encode\")\n",
    "        time_two = time()\n",
    "        time_taken = time_two - time_one\n",
    "        output_list.append(time_taken)\n",
    "    return output_list"
   ]
  },
  {
   "cell_type": "code",
   "execution_count": 119,
   "metadata": {},
   "outputs": [],
   "source": [
    "basic_data_three = expt_three_timer(basic_vigenere_translator, expanded_message_list, expanded_key_list)\n",
    "memoized_data_three = expt_three_timer(memoized_vigenere_translator, expanded_message_list, expanded_key_list)"
   ]
  },
  {
   "cell_type": "code",
   "execution_count": 120,
   "metadata": {},
   "outputs": [
    {
     "data": {
      "image/png": "[encoded data removed]",
      "text/plain": [
       "<Figure size 432x288 with 1 Axes>"
      ]
     },
     "metadata": {
      "needs_background": "light"
     },
     "output_type": "display_data"
    }
   ],
   "source": [
    "x_axis_expt_three = [10000, 20000, 30000, 40000, 50000, 60000, 70000, 80000, 90000, 100000]\n",
    "\n",
    "plt.plot(x_axis_expt_three, basic_data_three, label = \"basic_vigenere_translator\")\n",
    "plt.plot(x_axis_expt_three, memoized_data_three, label = \"memoized_vigenere_translator\")\n",
    "\n",
    "plt.xlabel(\"Number of characters per key and message\")\n",
    "plt.ylabel(\"Time (s)\")\n",
    "plt.title(\"Vigenère memoization exhibits negligible returns\")\n",
    "plt.legend()\n",
    "plt.savefig(\"fig_three.png\")\n",
    "plt.show()"
   ]
  },
  {
   "cell_type": "markdown",
   "metadata": {},
   "source": [
    "Clearly, it's not the dataset that's limited. There must be something intrinsic to my implementation of memoization which leads to slightly greater time complexity."
   ]
  },
  {
   "cell_type": "markdown",
   "metadata": {},
   "source": [
    "Let's use big-O notation to determine the (relative) time complexity of both memoization and the basic approach. If we only consider the areas in which they differ, the basic apporach has time complexity of O(n), where n is the length of the message. This is because each character of the message is compared to each character of the keystring, and a result arrived at. Conversely, the memoized approach has time complexity of O(n) * O(m), where m is the size of the list traversed to determine whether a particular message-key character combination has been encountered before. Actually, m = 676 (26^2) when inputs get large, and although this is negligible, it might explain the very slight increase observed."
   ]
  },
  {
   "cell_type": "markdown",
   "metadata": {},
   "source": [
    "## A Reflective Conclusion"
   ]
  },
  {
   "cell_type": "markdown",
   "metadata": {},
   "source": [
    "I hate to admit it, but a little knowledge is a dangerous thing. At the start of this exercise, I believed that any approach which stored and reused values would save the computer the effort of calculating them afresh, and lead to reduced time complexity. Yet, when deciding whether to memoize, one must also consider the structure of the problem encountered. It is not simply about encountering repeated subproblems; it is also about encountering repeated subproblems which _build upon each other_. \n",
    "\n",
    "To use an analogy, the value of the 13 times table is that it is difficult to arrive at 13 * 9 without first going through the lower multiples, or back-calculating from 13 * 10. Memorising (memoizing) this times table allows you to throw out that answer (117) without performing those operations first. A 1 times table, on the other hand, is pretty much useless - there is no benefit to storing values because calculating the solutions to new problems which involve multiplication by 1 takes around the same effort as recalling it.\n",
    "\n",
    "Bringing us back to this problem, let us compare the subproblem structure of the Fibonacci problem (https://algorithms.tutorialhorizon.com/introduction-to-dynamic-programming-fibonacci-series/) to this Vigenère question. Each new Fibonacci number requires the solutions of previous Fibonacci numbers to be calculated before it can be arrived at, and memoization cuts out all of this work, reducing a time complexity of O(2^n) to O(n), where n Fibonacci numbers are calculated. That is to say, unlike the navive recursive approach where smaller Fibonacci numbers are repeatedly calculated afresh, in the memoized approach, each Fibonacci number is only calculated once. Yet, in this Vigenère problem, each new message-key character combination can be calculated in one step, and no constituent subproblems need to be solved to arrive at this step. Memoization thus doesn't simplify the task at all, and just wastes space! Unfortunately, it took me three runtime analyses and a whole Jupyter workbook to learn this."
   ]
  },
  {
   "cell_type": "markdown",
   "metadata": {},
   "source": [
    "## Final Steps: GUI creation with tkinter"
   ]
  },
  {
   "cell_type": "markdown",
   "metadata": {},
   "source": [
    "The bulk of this code is from the Morse translator - with a few modifications."
   ]
  },
  {
   "cell_type": "code",
   "execution_count": 135,
   "metadata": {},
   "outputs": [],
   "source": [
    "import tkinter\n",
    "from tkinter import * #This gives us direct access to all public names within tkinter without needing to call tkinter.this, tkinter.that, etc.\n",
    "\n",
    "vig_gui = Tk() #Initialises our GUI window - its name is vig_gui\n",
    "vig_gui.title('Vigenère Translator') #Changes title\n",
    "\n",
    "##First, we need some welcome text so the user knows what this is and what to do.\n",
    "\n",
    "welcome_text = Text(vig_gui, height = 2, width = 100) #This is our text box\n",
    "welcome_text.pack(side = TOP) #Our welcome text will be at the top of the window\n",
    "welcome_text.insert(\"1.0\",\"Welcome to my Vigenère Translator!\\nSelect either Encode or Decode, put your message and key in, and hit Translate!\") #Inserts at the first character (0) of the first line (1)\n",
    "\n",
    "##Our translator function does two mutually exclusive things, so we need mutually exclusive options - radio buttons will work best.\n",
    "\n",
    "de_en_flag = StringVar() #Tell tkinter what type of variable this is: a StringVar object is a container which takes in strings\n",
    "de_en_flag.set(\"encode\") #We set this variable to have the value \"encode\" first, so we don't inadvertently fill both radio buttons - comment this out to see what I mean\n",
    "Radiobutton(vig_gui, text = \"Encode\", variable = de_en_flag, value = \"encode\").pack(anchor = N, pady = (10,0)) #By clicking on the button, we change the value of de_en_flag\n",
    "Radiobutton(vig_gui, text = \"Decode\", variable = de_en_flag, value = \"decode\").pack(anchor = N, pady = (0,10)) #Anchor controls where the text is postioned within morse_gui - options are N, NW, etc. and CENTER.\n",
    "#The pady option takes in either a single integer or a tuple - adds the specified amount of vertical space to the top and bottom.\n",
    "\n",
    "##After selecting their option, the user needs to know where to put their message in.\n",
    "\n",
    "input_text_msg = Text(vig_gui, height = 1, width = 23)\n",
    "input_text_msg.pack(side = TOP)\n",
    "input_text_msg.insert(\"1.0\", \"Put your message below!\")\n",
    "\n",
    "##We then create the space in which the user can put their message in.\n",
    "\n",
    "user_input_message = Entry(vig_gui, width = 100)\n",
    "user_input_message.pack(side = TOP, pady = 15)\n",
    "\n",
    "##Skip this for now --------- (1)\n",
    "\n",
    "#After repeated usage, I needed some way to quickly remove large messages, given the limited size of the user input box.\n",
    "\n",
    "def clear_message():\n",
    "    user_input_message.delete(0, END) #Clears user input box\n",
    "\n",
    "clear_button_msg = Button(vig_gui, text = 'Clear Message', width = 25, command = clear_message)\n",
    "clear_button_msg.pack(side = TOP, pady = (0,15))\n",
    "\n",
    "##The user also needs to know where to put their key in.\n",
    "\n",
    "input_text_key = Text(vig_gui, height = 1, width = 19)\n",
    "input_text_key.pack(side = TOP)\n",
    "input_text_key.insert(\"1.0\", \"Put your key below!\")\n",
    "\n",
    "##We then create the space in which the user can put their key in.\n",
    "\n",
    "user_input_key = Entry(vig_gui, width = 100)\n",
    "user_input_key.pack(side = TOP, pady = 15)\n",
    "\n",
    "##Now, we need to find some way of initiating the encoding or decoding process. \n",
    "\n",
    "def start_translator(de_en_flag): #This allows us to create conditional additions to the GUI\n",
    "    if de_en_flag == \"encode\":\n",
    "        output_text.replace(\"1.0\", END, basic_vigenere_translator(user_input_message.get(), user_input_key.get(), de_en_flag)) #Removes all characters in the box (from 1.0 to the end) and puts the specified string in\n",
    "    elif de_en_flag == \"decode\":\n",
    "        output_text.replace(\"1.0\", END, basic_vigenere_translator(user_input_message.get(), user_input_key.get(), de_en_flag))\n",
    "#Note that output_text (where the output will be displayed) has not been defined yet - this is okay, because the function has not yet been called.\n",
    "\n",
    "##Skip this for now --------- (3)\n",
    "\n",
    "#Aesthetically, I wanted to put the buttons below the key input box side-by-side, in the centre.\n",
    "#The best solution for this was to create a frame to hold them both, and position that frame between the user input and the output. This is where \"code echoes order\" helps a lot.\n",
    "        \n",
    "main_frame = Frame(vig_gui)\n",
    "main_frame.pack(side = TOP)\n",
    "\n",
    "##Now we need to let the user call start_translator. We need a start button.\n",
    "\n",
    "start_button = Button(vig_gui, text = 'Translate!', width = 25, command = lambda: start_translator(de_en_flag.get())) \n",
    "#This lambda will use the StringVar object's get() method to return its current value, then pass it to start_translator\n",
    "start_button.pack(in_ = main_frame, side = LEFT)\n",
    "\n",
    "##Skip this for now --------- (2)\n",
    "\n",
    "#After repeated usage, I needed some way to quickly remove large keys, given the limited size of the user input box.\n",
    "\n",
    "def clear_key():\n",
    "    user_input_key.delete(0, END) #Clears key input box\n",
    "\n",
    "clear_button_key = Button(vig_gui, text = 'Clear Key', width = 25, command = clear_key)\n",
    "clear_button_key.pack(in_ = main_frame, side = RIGHT, padx = (20,0))\n",
    "\n",
    "##We then need to display the output to the user.\n",
    "\n",
    "output_text = Text(vig_gui, height = 10, width = 100)\n",
    "output_text.pack(side = TOP, pady = 15)\n",
    "\n",
    "##Finally, we need some way of neatly exiting the window.\n",
    "\n",
    "exit_button = Button(vig_gui, text='Exit', width=25, command=vig_gui.destroy) #Adds exit button to terminate gui\n",
    "exit_button.pack(side = TOP, pady = (0,15)) #Our exit button will be on the bottom of the window\n",
    "\n",
    "##Once we're done, let's run the GUI!\n",
    "\n",
    "vig_gui.mainloop() #This starts the GUI\n",
    "\n",
    "## Go to points (1) and (2). \n",
    "\n",
    "## Go to point (3)."
   ]
  }
 ],
 "metadata": {
  "kernelspec": {
   "display_name": "Python 3",
   "language": "python",
   "name": "python3"
  },
  "language_info": {
   "codemirror_mode": {
    "name": "ipython",
    "version": 3
   },
   "file_extension": ".py",
   "mimetype": "text/x-python",
   "name": "python",
   "nbconvert_exporter": "python",
   "pygments_lexer": "ipython3",
   "version": "3.8.5"
  }
 },
 "nbformat": 4,
 "nbformat_minor": 4
}
